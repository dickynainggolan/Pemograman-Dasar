{
  "nbformat": 4,
  "nbformat_minor": 0,
  "metadata": {
    "colab": {
      "provenance": [],
      "toc_visible": true,
      "mount_file_id": "113T3ja5TxAypE3JEO16pFDu8W-S4yNfm",
      "authorship_tag": "ABX9TyN4zz1vNrtfVE1yzSPT7LIn",
      "include_colab_link": true
    },
    "kernelspec": {
      "name": "python3",
      "display_name": "Python 3"
    },
    "language_info": {
      "name": "python"
    }
  },
  "cells": [
    {
      "cell_type": "markdown",
      "metadata": {
        "id": "view-in-github",
        "colab_type": "text"
      },
      "source": [
        "<a href=\"https://colab.research.google.com/github/dickynainggolan/Pemograman-Dasar/blob/main/Pratikum_3.ipynb\" target=\"_parent\"><img src=\"https://colab.research.google.com/assets/colab-badge.svg\" alt=\"Open In Colab\"/></a>"
      ]
    },
    {
      "cell_type": "code",
      "execution_count": null,
      "metadata": {
        "colab": {
          "base_uri": "https://localhost:8080/"
        },
        "id": "SDNfMEVbUHtr",
        "outputId": "f9e2788f-6366-4f44-ad66-08f77b0bd120"
      },
      "outputs": [
        {
          "name": "stdout",
          "output_type": "stream",
          "text": [
            "Berapa porsi makan yang Anda beli ? : Wilie Salim\n",
            "Siapa Nama Pelanggan? :1000\n"
          ]
        }
      ],
      "source": [
        "total = input(\"Berapa porsi makan yang Anda beli ? : \")\n",
        "nama = input(\"Siapa Nama Pelanggan? :\")"
      ]
    },
    {
      "cell_type": "code",
      "source": [],
      "metadata": {
        "id": "IyVWqhwIoUtZ"
      },
      "execution_count": null,
      "outputs": []
    },
    {
      "cell_type": "code",
      "source": [
        "from google.colab import drive\n",
        "drive.mount('/content/drive')"
      ],
      "metadata": {
        "id": "yuO-EA2LotUT"
      },
      "execution_count": null,
      "outputs": []
    },
    {
      "cell_type": "code",
      "source": [
        "food = \"Ayam bakar\"\n",
        "print(\"David sedang membakar\",food)"
      ],
      "metadata": {
        "colab": {
          "base_uri": "https://localhost:8080/"
        },
        "id": "4_mk9jgnYvHV",
        "outputId": "584e3a60-a98e-4b89-e8e0-ca25ad086f84"
      },
      "execution_count": null,
      "outputs": [
        {
          "output_type": "stream",
          "name": "stdout",
          "text": [
            "David sedang membakar Ayam bakar\n"
          ]
        }
      ]
    },
    {
      "cell_type": "code",
      "source": [
        "a = 15\n",
        "b = 3\n",
        "print(\"penjumlahan\", a+b)\n",
        "print(\"pengurangan\",a-b)\n",
        "print(\"perkalian\",a*b)\n",
        "print(\"pembagian\",a/b)"
      ],
      "metadata": {
        "colab": {
          "base_uri": "https://localhost:8080/"
        },
        "id": "UdhY8Q6HZODN",
        "outputId": "d238f119-ba4c-44a8-d817-74c6e094d019"
      },
      "execution_count": null,
      "outputs": [
        {
          "output_type": "stream",
          "name": "stdout",
          "text": [
            "penjumlahan 18\n",
            "pengurangan 12\n",
            "perkalian 45\n",
            "pembagian 5.0\n"
          ]
        }
      ]
    },
    {
      "cell_type": "code",
      "source": [
        "bilangan = 10\n",
        "hasil = (bilangan > 0) and (bilangan % 2 == 0)\n",
        "print(\"Genap dan Positif?\",hasil)"
      ],
      "metadata": {
        "colab": {
          "base_uri": "https://localhost:8080/"
        },
        "id": "Kqmobtd8eTlx",
        "outputId": "f5ee0c60-0fa1-4425-ab09-01204a44790f"
      },
      "execution_count": null,
      "outputs": [
        {
          "output_type": "stream",
          "name": "stdout",
          "text": [
            "Genap dan Positif? True\n"
          ]
        }
      ]
    },
    {
      "cell_type": "code",
      "source": [
        "total_detik = 358200\n",
        "jam = total_detik // 3600\n",
        "sisa_detik = total_detik % 3600\n",
        "menit = sisa_detik // 60\n",
        "detik = sisa_detik % 60\n",
        "print(jam, \"jam\", menit, \"menit\", detik, \"detik\")"
      ],
      "metadata": {
        "colab": {
          "base_uri": "https://localhost:8080/"
        },
        "id": "f6aPf0F3e9v_",
        "outputId": "88e3cb92-209a-4431-9d8c-3d7105cb4808"
      },
      "execution_count": null,
      "outputs": [
        {
          "output_type": "stream",
          "name": "stdout",
          "text": [
            "99 jam 30 menit 0 detik\n"
          ]
        }
      ]
    },
    {
      "cell_type": "code",
      "source": [
        "tugas = 80\n",
        "uts = 72\n",
        "uas = 75\n",
        "\n",
        "nilai_akhir = (0.3 * tugas) + (0.3 * uts) + (0.4 * uas)\n",
        "print(\"Nilai akhir =\", nilai_akhir)\n",
        "\n",
        "\n"
      ],
      "metadata": {
        "colab": {
          "base_uri": "https://localhost:8080/"
        },
        "id": "l9w6p9wNgL75",
        "outputId": "28cdf8af-96ce-4eb8-fa48-01929ffab919"
      },
      "execution_count": null,
      "outputs": [
        {
          "output_type": "stream",
          "name": "stdout",
          "text": [
            "Nilai akhir = 75.6\n"
          ]
        }
      ]
    },
    {
      "cell_type": "code",
      "source": [
        "nilai_mahasiswa = 75.6\n",
        "standar_kelulusan = 75\n",
        "\n",
        "apakah_lulus = nilai_mahasiswa >= standar_kelulusan\n",
        "perlu_remedial = nilai_mahasiswa < standar_kelulusan\n",
        "\n",
        "print(f\"Nilai Mahasiswa: {nilai_mahasiswa}\")\n",
        "print(f\"Standar Kelulusan: {standar_kelulusan}\")\n",
        "print(f\"Apakah Mahasiswa Lulus? {apakah_lulus}\")\n",
        "print(f\"Perlu Remedial? {perlu_remedial}\")\n"
      ],
      "metadata": {
        "colab": {
          "base_uri": "https://localhost:8080/"
        },
        "id": "Ov57CRklhp0m",
        "outputId": "c5c46245-0a40-47ba-870d-24b78c267f47"
      },
      "execution_count": null,
      "outputs": [
        {
          "output_type": "stream",
          "name": "stdout",
          "text": [
            "Nilai Mahasiswa: 75.6\n",
            "Standar Kelulusan: 75\n",
            "Apakah Mahasiswa Lulus? True\n",
            "Perlu Remedial? False\n"
          ]
        }
      ]
    },
    {
      "cell_type": "code",
      "source": [
        "\n",
        "belanja = 1300000\n",
        "diskon = (0, 0.35 * belanja) [belanja > 1000000]\n",
        "total_harga = belanja - diskon\n",
        "\n",
        "print(\"Total harga setelah diskon =\", total_harga)\n"
      ],
      "metadata": {
        "colab": {
          "base_uri": "https://localhost:8080/"
        },
        "id": "j-ro_O1TkDNC",
        "outputId": "e6aff198-fcf7-4276-eac4-0c43f947300b"
      },
      "execution_count": null,
      "outputs": [
        {
          "output_type": "stream",
          "name": "stdout",
          "text": [
            "Total harga setelah diskon = 845000.0\n"
          ]
        }
      ]
    },
    {
      "cell_type": "code",
      "source": [
        "def cek_kabisat(tahun):\n",
        "\n",
        "    if (tahun % 4 == 0 and tahun % 100 != 0) or (tahun % 400 == 0):\n",
        "        return True\n",
        "    else:\n",
        "        return False\n",
        "\n",
        "\n",
        "tahun = int(input(\"Masukkan tahun: \"))\n",
        "\n",
        "\n",
        "if cek_kabisat(tahun):\n",
        "    print(tahun, \"adalah tahun kabisat\")\n",
        "else:\n",
        "    print(tahun, \"bukan tahun kabisat\")\n",
        "\n"
      ],
      "metadata": {
        "colab": {
          "base_uri": "https://localhost:8080/"
        },
        "id": "6J5qWLqMkuTQ",
        "outputId": "6be088e0-ffd0-4a88-dc2a-cae69d48f72b"
      },
      "execution_count": null,
      "outputs": [
        {
          "output_type": "stream",
          "name": "stdout",
          "text": [
            "Masukkan tahun: 2800\n",
            "2800 adalah tahun kabisat\n"
          ]
        }
      ]
    }
  ]
}
