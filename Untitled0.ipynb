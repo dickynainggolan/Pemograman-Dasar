{
  "nbformat": 4,
  "nbformat_minor": 0,
  "metadata": {
    "colab": {
      "provenance": [],
      "authorship_tag": "ABX9TyMdn3MYjkXyznlsnfJK5jt5",
      "include_colab_link": true
    },
    "kernelspec": {
      "name": "python3",
      "display_name": "Python 3"
    },
    "language_info": {
      "name": "python"
    }
  },
  "cells": [
    {
      "cell_type": "markdown",
      "metadata": {
        "id": "view-in-github",
        "colab_type": "text"
      },
      "source": [
        "<a href=\"https://colab.research.google.com/github/dickynainggolan/Pemograman-Dasar/blob/main/Untitled0.ipynb\" target=\"_parent\"><img src=\"https://colab.research.google.com/assets/colab-badge.svg\" alt=\"Open In Colab\"/></a>"
      ]
    },
    {
      "cell_type": "code",
      "execution_count": 3,
      "metadata": {
        "colab": {
          "base_uri": "https://localhost:8080/"
        },
        "id": "dQu4eNhRnDol",
        "outputId": "2108f838-ab28-44a0-c511-eea483922a4e"
      },
      "outputs": [
        {
          "output_type": "stream",
          "name": "stdout",
          "text": [
            "Sistem siap. Selamat datang kembali di sesi praktikum.\n"
          ]
        }
      ],
      "source": [
        "# SOAL 1: Fungsi Inisialisasi Sederhana\n",
        "def sapa_praktikan():\n",
        "    \"\"\"Mencetak pesan sambutan dasar.\"\"\"\n",
        "    print(\"Sistem siap. Selamat datang kembali di sesi praktikum.\")\n",
        "\n",
        "# Pemanggilan:\n",
        "sapa_praktikan()"
      ]
    },
    {
      "cell_type": "code",
      "source": [
        "# MODIFIKASI SOAL 1: Fungsi untuk menampilkan biodata lengkap\n",
        "def Biodata():\n",
        "    \"\"\"Menampilkan biodata lengkap praktikan.\"\"\"\n",
        "    print(\"================== BIODATA DIRI ====================\")\n",
        "    print(\"Nama     : Dicky Nainggolan\")\n",
        "    print(\"NIM      : 4232401047\")\n",
        "    print(\"Kelas    : RPE Pagi B\")\n",
        "    print(\"Jurusan  : Teknologi Rekayasa Pembangkit Energi\")\n",
        "    print(\"Kampus   : Politeknik Negeri Batam\")\n",
        "    print(\"====================================================\")\n",
        "\n",
        "# Pemanggilan fungsi biodata\n",
        "Biodata()"
      ],
      "metadata": {
        "colab": {
          "base_uri": "https://localhost:8080/"
        },
        "id": "6e-uDPberwX9",
        "outputId": "c0591ef3-ece1-45a7-d32e-bf3ac3222549"
      },
      "execution_count": 5,
      "outputs": [
        {
          "output_type": "stream",
          "name": "stdout",
          "text": [
            "================== BIODATA DIRI ====================\n",
            "Nama     : Dicky Nainggolan\n",
            "NIM      : 4232401047\n",
            "Kelas    : RPE Pagi B\n",
            "Jurusan  : Teknologi Rekayasa Pembangkit Energi\n",
            "Kampus   : Politeknik Negeri Batam\n",
            "====================================================\n"
          ]
        }
      ]
    },
    {
      "cell_type": "code",
      "source": [
        "# SOAL 2: Menghitung Volume Kubus\n",
        "def hitung_volume_kubus(sisi):\n",
        "    \"\"\"Menghitung volume kubus dari panjang sisinya.\"\"\"\n",
        "    return sisi ** 3\n",
        "\n",
        "# Pemanggilan:\n",
        "panjang_sisi = 5\n",
        "print(f\"Volume kubus dengan sisi {panjang_sisi} adalah: {hitung_volume_kubus(panjang_sisi)}\")\n"
      ],
      "metadata": {
        "colab": {
          "base_uri": "https://localhost:8080/"
        },
        "id": "-t4s9k6ps1Dv",
        "outputId": "61454580-7fd2-455d-d64d-a79b61a38b73"
      },
      "execution_count": 6,
      "outputs": [
        {
          "output_type": "stream",
          "name": "stdout",
          "text": [
            "Volume kubus dengan sisi 5 adalah: 125\n"
          ]
        }
      ]
    },
    {
      "cell_type": "code",
      "source": [
        "# MODIFIKASI soal 2: Menghitung volume balok\n",
        "def hitung_volume_balok(panjang, lebar, tinggi):\n",
        "    \"\"\"Menghitung volume balok dari panjang, lebar, dan tinggi.\"\"\"\n",
        "    return panjang * lebar * tinggi\n",
        "\n",
        "# Pemanggilan:\n",
        "p = 10\n",
        "l = 5\n",
        "t = 4\n",
        "print(f\"Volume balok dengan ukuran {p} x {l} x {t} adalah: {hitung_volume_balok(p, l, t)}\")\n"
      ],
      "metadata": {
        "colab": {
          "base_uri": "https://localhost:8080/"
        },
        "id": "hmooL5Gi1bRz",
        "outputId": "c1590190-5c2a-44cd-ce1d-ae6bf7b99b33"
      },
      "execution_count": 7,
      "outputs": [
        {
          "output_type": "stream",
          "name": "stdout",
          "text": [
            "Volume balok dengan ukuran 10 x 5 x 4 adalah: 200\n"
          ]
        }
      ]
    },
    {
      "cell_type": "code",
      "source": [
        "# SOAL 3: Menghitung Rata-rata dari List Nilai\n",
        "def hitung_rata_rata(data_nilai):\n",
        "    \"\"\"Menghitung rata-rata dari list angka menggunakan perulangan for.\"\"\"\n",
        "    total = 0\n",
        "\n",
        "    # Perulangan untuk menjumlahkan nilai\n",
        "    for nilai in ______:\n",
        "        total += nilai\n",
        "\n",
        "    # Pembagian untuk rata-rata\n",
        "    if total > 0:\n",
        "        return total / ______\n",
        "    return 0\n",
        "\n",
        "# Pemanggilan:\n",
        "nilai_praktikan = [85, 78, 92, 65, 90]\n",
        "print(f\"Nilai rata-rata kelas adalah: {hitung_rata_rata(nilai_praktikan)}\")\n"
      ],
      "metadata": {
        "colab": {
          "base_uri": "https://localhost:8080/",
          "height": 297
        },
        "id": "3UzNJhEf1iEM",
        "outputId": "e714e169-66c0-4740-e457-7baf8b725e5e"
      },
      "execution_count": 8,
      "outputs": [
        {
          "output_type": "error",
          "ename": "NameError",
          "evalue": "name '______' is not defined",
          "traceback": [
            "\u001b[0;31m---------------------------------------------------------------------------\u001b[0m",
            "\u001b[0;31mNameError\u001b[0m                                 Traceback (most recent call last)",
            "\u001b[0;32m/tmp/ipython-input-237739220.py\u001b[0m in \u001b[0;36m<cell line: 0>\u001b[0;34m()\u001b[0m\n\u001b[1;32m     15\u001b[0m \u001b[0;31m# Pemanggilan:\u001b[0m\u001b[0;34m\u001b[0m\u001b[0;34m\u001b[0m\u001b[0m\n\u001b[1;32m     16\u001b[0m \u001b[0mnilai_praktikan\u001b[0m \u001b[0;34m=\u001b[0m \u001b[0;34m[\u001b[0m\u001b[0;36m85\u001b[0m\u001b[0;34m,\u001b[0m \u001b[0;36m78\u001b[0m\u001b[0;34m,\u001b[0m \u001b[0;36m92\u001b[0m\u001b[0;34m,\u001b[0m \u001b[0;36m65\u001b[0m\u001b[0;34m,\u001b[0m \u001b[0;36m90\u001b[0m\u001b[0;34m]\u001b[0m\u001b[0;34m\u001b[0m\u001b[0;34m\u001b[0m\u001b[0m\n\u001b[0;32m---> 17\u001b[0;31m \u001b[0mprint\u001b[0m\u001b[0;34m(\u001b[0m\u001b[0;34mf\"Nilai rata-rata kelas adalah: {hitung_rata_rata(nilai_praktikan)}\"\u001b[0m\u001b[0;34m)\u001b[0m\u001b[0;34m\u001b[0m\u001b[0;34m\u001b[0m\u001b[0m\n\u001b[0m",
            "\u001b[0;32m/tmp/ipython-input-237739220.py\u001b[0m in \u001b[0;36mhitung_rata_rata\u001b[0;34m(data_nilai)\u001b[0m\n\u001b[1;32m      5\u001b[0m \u001b[0;34m\u001b[0m\u001b[0m\n\u001b[1;32m      6\u001b[0m     \u001b[0;31m# Perulangan untuk menjumlahkan nilai\u001b[0m\u001b[0;34m\u001b[0m\u001b[0;34m\u001b[0m\u001b[0m\n\u001b[0;32m----> 7\u001b[0;31m     \u001b[0;32mfor\u001b[0m \u001b[0mnilai\u001b[0m \u001b[0;32min\u001b[0m \u001b[0m______\u001b[0m\u001b[0;34m:\u001b[0m\u001b[0;34m\u001b[0m\u001b[0;34m\u001b[0m\u001b[0m\n\u001b[0m\u001b[1;32m      8\u001b[0m         \u001b[0mtotal\u001b[0m \u001b[0;34m+=\u001b[0m \u001b[0mnilai\u001b[0m\u001b[0;34m\u001b[0m\u001b[0;34m\u001b[0m\u001b[0m\n\u001b[1;32m      9\u001b[0m \u001b[0;34m\u001b[0m\u001b[0m\n",
            "\u001b[0;31mNameError\u001b[0m: name '______' is not defined"
          ]
        }
      ]
    },
    {
      "cell_type": "code",
      "metadata": {
        "colab": {
          "base_uri": "https://localhost:8080/"
        },
        "id": "a5e3c50f",
        "outputId": "c76c7271-726d-4d92-c2ea-732914b1c96c"
      },
      "source": [
        "# Alternative way to calculate average using sum() and len()\n",
        "def hitung_rata_rata_simple(data_nilai):\n",
        "  \"\"\"Menghitung rata-rata dari list angka menggunakan sum() dan len().\"\"\"\n",
        "  if len(data_nilai) > 0:\n",
        "    return sum(data_nilai) / len(data_nilai)\n",
        "  return 0\n",
        "\n",
        "# Pemanggilan:\n",
        "nilai_praktikan = [85, 78, 92, 65, 90]\n",
        "print(f\"Nilai rata-rata kelas (menggunakan sum dan len) adalah: {hitung_rata_rata_simple(nilai_praktikan)}\")"
      ],
      "execution_count": 9,
      "outputs": [
        {
          "output_type": "stream",
          "name": "stdout",
          "text": [
            "Nilai rata-rata kelas (menggunakan sum dan len) adalah: 82.0\n"
          ]
        }
      ]
    },
    {
      "cell_type": "code",
      "source": [
        "# MODIFIKASI SOAL 3: Menambahkan pengecekan nilai\n",
        "def hitung_rata_rata(data_nilai):\n",
        "    \"\"\"Menghitung rata-rata dan mengabaikan nilai tidak valid (<0 atau >100).\"\"\"\n",
        "    total = 0\n",
        "    jumlah_data = 0\n",
        "\n",
        "    for nilai in data_nilai:\n",
        "        # Cek apakah nilai valid\n",
        "        if nilai < 0 or nilai > 100:\n",
        "            print(f\"Nilai {nilai} tidak valid dan diabaikan!\")\n",
        "            continue  # Lewati nilai ini\n",
        "        total += nilai\n",
        "        jumlah_data += 1\n",
        "\n",
        "    if jumlah_data > 0:\n",
        "        return total / jumlah_data\n",
        "    else:\n",
        "        return 0\n",
        "\n",
        "\n",
        "# Pemanggilan:\n",
        "nilai_praktikan = [85, 110, -5, 78, 92, 65, 90]\n",
        "print(f\"Nilai rata-rata kelas adalah: {hitung_rata_rata(nilai_praktikan)}\")\n"
      ],
      "metadata": {
        "colab": {
          "base_uri": "https://localhost:8080/"
        },
        "id": "9sGtIs5r9FKf",
        "outputId": "7ee8f287-86a7-4ac7-9277-9909b8fdc76e"
      },
      "execution_count": 10,
      "outputs": [
        {
          "output_type": "stream",
          "name": "stdout",
          "text": [
            "Nilai 110 tidak valid dan diabaikan!\n",
            "Nilai -5 tidak valid dan diabaikan!\n",
            "Nilai rata-rata kelas adalah: 82.0\n"
          ]
        }
      ]
    },
    {
      "cell_type": "code",
      "source": [
        "# SOAL 4: Sistem Penentuan Predikat Nilai\n",
        "def tentukan_predikat(skor):\n",
        "    \"\"\"Menentukan predikat (A, B, C, D, E) berdasarkan skor.\"\"\"\n",
        "    if skor >= 85:\n",
        "        return \"A\"\n",
        "    elif skor >= 75:\n",
        "        return \"B\"\n",
        "    elif skor >= 60:\n",
        "        return \"C\"\n",
        "    elif skor >= 50:\n",
        "        return \"D\"\n",
        "    else:\n",
        "        return \"E\"\n",
        "\n",
        "\n",
        "# Pemanggilan:\n",
        "print(f\"Skor 75 mendapat predikat: {tentukan_predikat(75)}\")\n",
        "print(f\"Skor 48 mendapat predikat: {tentukan_predikat(48)}\")\n",
        "\n"
      ],
      "metadata": {
        "colab": {
          "base_uri": "https://localhost:8080/"
        },
        "id": "WWfx-0OQ9K5X",
        "outputId": "b436bf69-8896-48b1-b5c0-929ff94b0a9d"
      },
      "execution_count": 11,
      "outputs": [
        {
          "output_type": "stream",
          "name": "stdout",
          "text": [
            "Skor 75 mendapat predikat: B\n",
            "Skor 48 mendapat predikat: E\n"
          ]
        }
      ]
    },
    {
      "cell_type": "code",
      "source": [
        "# MODIFIKASI SOAL 4: Menambahkan pengecekan tipe data\n",
        "def tentukan_predikat(skor):\n",
        "    \"\"\"Menentukan predikat nilai dan memastikan input numerik (int/float).\"\"\"\n",
        "\n",
        "    # Pengecekan tipe data\n",
        "    if not isinstance(skor, (int, float)):\n",
        "        return \"Error: Input harus berupa angka (int atau float).\"\n",
        "\n",
        "    # Pengecekan rentang nilai\n",
        "    if skor < 0 or skor > 100:\n",
        "        return \"Error: Nilai harus di antara 0 - 100.\"\n",
        "\n",
        "    # Logika penentuan predikat\n",
        "    if skor >= 85:\n",
        "        return \"A\"\n",
        "    elif skor >= 75:\n",
        "        return \"B\"\n",
        "    elif skor >= 60:\n",
        "        return \"C\"\n",
        "    elif skor >= 50:\n",
        "        return \"D\"\n",
        "    else:\n",
        "        return \"E\"\n",
        "\n",
        "\n",
        "# Pemanggilan:\n",
        "print(f\"Skor 90 mendapat predikat: {tentukan_predikat(90)}\")\n",
        "print(f\"Skor 48 mendapat predikat: {tentukan_predikat(48)}\")\n",
        "print(f\"Skor 'abc' mendapat predikat: {tentukan_predikat('abc')}\")\n",
        "print(f\"Skor 120 mendapat predikat: {tentukan_predikat(120)}\")\n"
      ],
      "metadata": {
        "colab": {
          "base_uri": "https://localhost:8080/"
        },
        "id": "dtepse8u9pXD",
        "outputId": "33ad08bb-ef6a-4740-b1c5-a1d236e0613a"
      },
      "execution_count": 12,
      "outputs": [
        {
          "output_type": "stream",
          "name": "stdout",
          "text": [
            "Skor 90 mendapat predikat: A\n",
            "Skor 48 mendapat predikat: E\n",
            "Skor 'abc' mendapat predikat: Error: Input harus berupa angka (int atau float).\n",
            "Skor 120 mendapat predikat: Error: Nilai harus di antara 0 - 100.\n"
          ]
        }
      ]
    },
    {
      "cell_type": "code",
      "source": [
        "# SOAL 5: Menghitung Faktorial dengan Loop While\n",
        "def hitung_faktorial(n):\n",
        "    \"\"\"Menghitung faktorial dari bilangan positif n.\"\"\"\n",
        "    hasil = 1\n",
        "\n",
        "    # Perulangan berjalan selama n lebih besar dari 1\n",
        "    while n > 1:\n",
        "        hasil *= n\n",
        "        n -= 1  # Kurangi n\n",
        "    return hasil\n",
        "\n",
        "\n",
        "# Pemanggilan:\n",
        "bilangan_n = 4\n",
        "print(f\"Faktorial dari {bilangan_n} adalah: {hitung_faktorial(bilangan_n)}\")  # Output: 24\n",
        "\n"
      ],
      "metadata": {
        "colab": {
          "base_uri": "https://localhost:8080/"
        },
        "id": "ezRuPmrN9sBe",
        "outputId": "4cdff674-d87d-4e63-fef4-7114ed5415c0"
      },
      "execution_count": 13,
      "outputs": [
        {
          "output_type": "stream",
          "name": "stdout",
          "text": [
            "Faktorial dari 4 adalah: 24\n"
          ]
        }
      ]
    },
    {
      "cell_type": "code",
      "source": [
        "# MODIFIKASI SOAL 5\n",
        "def hitung_faktorial(n):\n",
        "    \"\"\"Menghitung faktorial dari bilangan positif n dengan pengecekan kondisi khusus.\"\"\"\n",
        "\n",
        "    # Pengecekan untuk bilangan negatif\n",
        "    if n < 0:\n",
        "        return \"Error: Faktorial tidak didefinisikan untuk bilangan negatif.\"\n",
        "\n",
        "    # Faktorial 0 didefinisikan bernilai 1\n",
        "    elif n == 0:\n",
        "        return 1\n",
        "\n",
        "    # Perhitungan faktorial untuk n > 0\n",
        "    hasil = 1\n",
        "    while n > 1:\n",
        "        hasil *= n\n",
        "        n -= 1\n",
        "    return hasil\n",
        "\n",
        "\n",
        "# Pemanggilan:\n",
        "print(f\"Faktorial dari 4 adalah: {hitung_faktorial(4)}\")     # Output: 24\n",
        "print(f\"Faktorial dari 0 adalah: {hitung_faktorial(0)}\")     # Output: 1\n",
        "print(f\"Faktorial dari -3 adalah: {hitung_faktorial(-3)}\")   # Output: Error\n"
      ],
      "metadata": {
        "colab": {
          "base_uri": "https://localhost:8080/"
        },
        "id": "nW1K1JVL-EPH",
        "outputId": "fc41be2b-fb9d-44e3-ffde-f8c739fa1946"
      },
      "execution_count": 14,
      "outputs": [
        {
          "output_type": "stream",
          "name": "stdout",
          "text": [
            "Faktorial dari 4 adalah: 24\n",
            "Faktorial dari 0 adalah: 1\n",
            "Faktorial dari -3 adalah: Error: Faktorial tidak didefinisikan untuk bilangan negatif.\n"
          ]
        }
      ]
    },
    {
      "cell_type": "code",
      "source": [
        "# SOAL 6: Analisis Data Suhu Ekstrem (for dan if/elif)\n",
        "def analisis_suhu(data_suhu, batas_panas=35, batas_dingin=15):\n",
        "    \"\"\"Menghitung jumlah hari Panas dan Dingin dari data_suhu.\"\"\"\n",
        "    panas_count = 0\n",
        "    dingin_count = 0\n",
        "\n",
        "    for suhu in data_suhu:\n",
        "        if suhu >= batas_panas:\n",
        "            panas_count += 1\n",
        "        elif suhu <= batas_dingin:\n",
        "            dingin_count += 1\n",
        "\n",
        "    return panas_count, dingin_count\n",
        "\n",
        "\n",
        "# Pemanggilan:\n",
        "suhu_mingguan = [36, 30, 14, 25, 38, 16, 28]\n",
        "jumlah_panas, jumlah_dingin = analisis_suhu(suhu_mingguan)\n",
        "\n",
        "print(f\"Jumlah hari Panas (>= {35}°C): {jumlah_panas}\")\n",
        "print(f\"Jumlah hari Dingin (<= {15}°C): {jumlah_dingin}\")\n"
      ],
      "metadata": {
        "colab": {
          "base_uri": "https://localhost:8080/"
        },
        "id": "g4vE-nQM-Z4i",
        "outputId": "3630d457-5c4a-4bc7-e7fd-ced25ecd5c99"
      },
      "execution_count": 15,
      "outputs": [
        {
          "output_type": "stream",
          "name": "stdout",
          "text": [
            "Jumlah hari Panas (>= 35°C): 2\n",
            "Jumlah hari Dingin (<= 15°C): 1\n"
          ]
        }
      ]
    },
    {
      "cell_type": "code",
      "source": [
        "# SOAL MODIFIKASI SOAL 6\n",
        "\n",
        "# Contoh: ubah batas panas ke 32°C dan dingin ke 10°C\n",
        "jumlah_panas, jumlah_dingin = analisis_suhu(suhu_mingguan, batas_panas=32, batas_dingin=10)\n",
        "\n",
        "print(f\"Jumlah hari Panas (>= 32°C): {jumlah_panas}\")\n",
        "print(f\"Jumlah hari Dingin (<= 10°C): {jumlah_dingin}\")\n"
      ],
      "metadata": {
        "colab": {
          "base_uri": "https://localhost:8080/"
        },
        "id": "K4lhhasA_Ye-",
        "outputId": "33bb0fa0-27d9-4b5b-a02e-b2f91d94baad"
      },
      "execution_count": 16,
      "outputs": [
        {
          "output_type": "stream",
          "name": "stdout",
          "text": [
            "Jumlah hari Panas (>= 32°C): 2\n",
            "Jumlah hari Dingin (<= 10°C): 0\n"
          ]
        }
      ]
    }
  ]
}