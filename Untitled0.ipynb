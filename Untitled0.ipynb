{
  "nbformat": 4,
  "nbformat_minor": 0,
  "metadata": {
    "colab": {
      "provenance": [],
      "authorship_tag": "ABX9TyPachH7AloD1B8ciqNZ7Tod",
      "include_colab_link": true
    },
    "kernelspec": {
      "name": "python3",
      "display_name": "Python 3"
    },
    "language_info": {
      "name": "python"
    }
  },
  "cells": [
    {
      "cell_type": "markdown",
      "metadata": {
        "id": "view-in-github",
        "colab_type": "text"
      },
      "source": [
        "<a href=\"https://colab.research.google.com/github/dickynainggolan/Pemograman-Dasar/blob/main/Untitled0.ipynb\" target=\"_parent\"><img src=\"https://colab.research.google.com/assets/colab-badge.svg\" alt=\"Open In Colab\"/></a>"
      ]
    },
    {
      "cell_type": "code",
      "source": [
        "x = 6\n",
        "print(type(x))\n",
        "x = \"6\"\n",
        "print(type(x))\n",
        "\n"
      ],
      "metadata": {
        "colab": {
          "base_uri": "https://localhost:8080/"
        },
        "id": "ZGDaAvo_Z74R",
        "outputId": "73dfb560-b38d-4991-9e58-dce6446985ac"
      },
      "execution_count": null,
      "outputs": [
        {
          "output_type": "stream",
          "name": "stdout",
          "text": [
            "<class 'int'>\n",
            "<class 'str'>\n"
          ]
        }
      ]
    },
    {
      "cell_type": "code",
      "source": [
        "x = True and False\n",
        "print(type(x))"
      ],
      "metadata": {
        "colab": {
          "base_uri": "https://localhost:8080/"
        },
        "id": "cppf65PlbCna",
        "outputId": "6cb73c10-89fa-487d-e2e8-4f18c22b5b4d"
      },
      "execution_count": null,
      "outputs": [
        {
          "output_type": "stream",
          "name": "stdout",
          "text": [
            "<class 'bool'>\n"
          ]
        }
      ]
    },
    {
      "cell_type": "code",
      "source": [
        "x = \"polibatam\"\n",
        "print(x[4])\n",
        "print(x[4:9])"
      ],
      "metadata": {
        "colab": {
          "base_uri": "https://localhost:8080/"
        },
        "id": "mG2Q5n6Pbfhc",
        "outputId": "9cbc96b8-c2a7-465e-de82-9aaeef6229ce"
      },
      "execution_count": null,
      "outputs": [
        {
          "output_type": "stream",
          "name": "stdout",
          "text": [
            "b\n",
            "batam\n"
          ]
        }
      ]
    },
    {
      "cell_type": "code",
      "source": [
        "name = \"Dicky\"\n",
        "print(f\"Hello,Nama Saya {name} \")"
      ],
      "metadata": {
        "colab": {
          "base_uri": "https://localhost:8080/"
        },
        "id": "7F-5DLeLbewl",
        "outputId": "b229804c-31f5-430d-f33d-89b5320a7f92"
      },
      "execution_count": null,
      "outputs": [
        {
          "output_type": "stream",
          "name": "stdout",
          "text": [
            "Hello,Nama Saya Dicky \n"
          ]
        }
      ]
    },
    {
      "cell_type": "code",
      "execution_count": null,
      "metadata": {
        "colab": {
          "base_uri": "https://localhost:8080/"
        },
        "id": "Sc-g5ja8XlkT",
        "outputId": "aa0fdda6-cf04-4f8b-cc50-a96ecb07193f"
      },
      "outputs": [
        {
          "output_type": "stream",
          "name": "stdout",
          "text": [
            "Nama Saya Dicky Nainggolan\n"
          ]
        }
      ],
      "source": [
        "name = \"Dicky Nainggolan\"\n",
        "print(\"Nama Saya {}\".format (name))"
      ]
    },
    {
      "cell_type": "code",
      "source": [
        "x = [1,'polibatam',True,1.0 ]\n",
        "print(x[1])"
      ],
      "metadata": {
        "colab": {
          "base_uri": "https://localhost:8080/"
        },
        "id": "7KH5ZLh9ZI-t",
        "outputId": "117bf54f-2881-427e-9ed3-77200e308168"
      },
      "execution_count": null,
      "outputs": [
        {
          "output_type": "stream",
          "name": "stdout",
          "text": [
            "polibatam\n"
          ]
        }
      ]
    },
    {
      "cell_type": "code",
      "source": [
        "x = [1,2.2,'polibatam']\n",
        "x[0] = 'indonesia'\n",
        "print(x)\n"
      ],
      "metadata": {
        "colab": {
          "base_uri": "https://localhost:8080/"
        },
        "id": "7kuc2NIhfaB1",
        "outputId": "9f1e7c86-9ebd-4c29-d711-8a81f20463f4"
      },
      "execution_count": null,
      "outputs": [
        {
          "output_type": "stream",
          "name": "stdout",
          "text": [
            "['indonesia', 2.2, 'polibatam']\n"
          ]
        }
      ]
    },
    {
      "cell_type": "code",
      "source": [
        "x = (1,\"polibatam\",1+3j)\n",
        "print(type(x))"
      ],
      "metadata": {
        "colab": {
          "base_uri": "https://localhost:8080/"
        },
        "id": "SteEeh0Egi0i",
        "outputId": "7bc567d3-dec8-4c03-9d1d-f2edf2f329f0"
      },
      "execution_count": null,
      "outputs": [
        {
          "output_type": "stream",
          "name": "stdout",
          "text": [
            "<class 'tuple'>\n"
          ]
        }
      ]
    },
    {
      "cell_type": "code",
      "source": [
        "x = \"leptop\",\"monitor\",\"mouse\",\"maousepad\",\"keyboard\",\"webcam\",\"microphone\"\n",
        "print(x[0:5:3])\n",
        "print(x[:4])\n",
        "print(x[1:])"
      ],
      "metadata": {
        "colab": {
          "base_uri": "https://localhost:8080/"
        },
        "id": "XIOSr6UvhK2o",
        "outputId": "7585de78-0a1f-4d3e-f3a3-1449474a885f"
      },
      "execution_count": null,
      "outputs": [
        {
          "output_type": "stream",
          "name": "stdout",
          "text": [
            "('leptop', 'maousepad')\n",
            "('leptop', 'monitor', 'mouse', 'maousepad')\n",
            "('monitor', 'mouse', 'maousepad', 'keyboard', 'webcam', 'microphone')\n"
          ]
        }
      ]
    },
    {
      "cell_type": "code",
      "source": [
        "x = [1,2.2,'polibatam']\n",
        "print(type(x))"
      ],
      "metadata": {
        "colab": {
          "base_uri": "https://localhost:8080/"
        },
        "id": "MXSnI7PPLoue",
        "outputId": "f98d3b65-0cb2-4174-f406-d9e36eccf68a"
      },
      "execution_count": 1,
      "outputs": [
        {
          "output_type": "stream",
          "name": "stdout",
          "text": [
            "<class 'list'>\n"
          ]
        }
      ]
    },
    {
      "cell_type": "code",
      "source": [
        "x = {1,2.2,'Discoding'}\n",
        "print(x)"
      ],
      "metadata": {
        "colab": {
          "base_uri": "https://localhost:8080/"
        },
        "id": "J5TWuCaVMJOP",
        "outputId": "68c593a0-e74b-478e-8775-18b15e45a955"
      },
      "execution_count": 2,
      "outputs": [
        {
          "output_type": "stream",
          "name": "stdout",
          "text": [
            "{1, 2.2, 'Discoding'}\n"
          ]
        }
      ]
    }
  ]
}