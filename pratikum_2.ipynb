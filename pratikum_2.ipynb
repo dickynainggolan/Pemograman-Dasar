{
  "nbformat": 4,
  "nbformat_minor": 0,
  "metadata": {
    "colab": {
      "provenance": [],
      "authorship_tag": "ABX9TyNQc+iF5wvOlyHQhJ1O2NdD",
      "include_colab_link": true
    },
    "kernelspec": {
      "name": "python3",
      "display_name": "Python 3"
    },
    "language_info": {
      "name": "python"
    }
  },
  "cells": [
    {
      "cell_type": "markdown",
      "metadata": {
        "id": "view-in-github",
        "colab_type": "text"
      },
      "source": [
        "<a href=\"https://colab.research.google.com/github/dickynainggolan/Pemograman-Dasar/blob/main/pratikum_2.ipynb\" target=\"_parent\"><img src=\"https://colab.research.google.com/assets/colab-badge.svg\" alt=\"Open In Colab\"/></a>"
      ]
    },
    {
      "cell_type": "code",
      "execution_count": null,
      "metadata": {
        "id": "wHGFndXMvJZ1",
        "colab": {
          "base_uri": "https://localhost:8080/"
        },
        "outputId": "86ff3298-2285-4018-c3c1-c5c1178c95cc"
      },
      "outputs": [
        {
          "output_type": "stream",
          "name": "stdout",
          "text": [
            "Dicky\n",
            "Nainggolan\n",
            "19\n",
            "False\n"
          ]
        }
      ],
      "source": [
        "firstname = \"Dicky\"\n",
        "lastname  = \"Nainggolan\"\n",
        "age       = 19\n",
        "isMarried = False\n",
        "\n",
        "print (firstname)\n",
        "print (lastname)\n",
        "print (age)\n",
        "print (isMarried)\n",
        "\n"
      ]
    },
    {
      "cell_type": "code",
      "source": [
        "data_diri = {\n",
        "    \"firstname\": \"Dicky\",\n",
        "    \"lastname\": \"Nainggolan\",\n",
        "    \"age\": 19,\n",
        "    \"isMarried\": False\n",
        "}\n",
        "print(data_diri)"
      ],
      "metadata": {
        "colab": {
          "base_uri": "https://localhost:8080/"
        },
        "id": "9yDx1lbt64v5",
        "outputId": "7ab8c460-45f3-4c1a-8c20-50eff6dec34c"
      },
      "execution_count": null,
      "outputs": [
        {
          "output_type": "stream",
          "name": "stdout",
          "text": [
            "{'firstname': 'Dicky', 'lastname': 'Nainggolan', 'age': 19, 'isMarried': False}\n"
          ]
        }
      ]
    },
    {
      "cell_type": "code",
      "source": [
        "inspeksi = [\n",
        "    \"pemahaman terhadap rencana dan desain\",\n",
        "    \"ketersediaan bahan dan peralatan\",\n",
        "    \"pengawasan pekerjaan\",\n",
        "    \"kualitas konstruksi\",\n",
        "    \"keselamatan kerja\",\n",
        "    \"koordinasi dengan pemilik proyek\"\n",
        "]\n",
        "print(\"Daftar Inspeksi Proyek:\")\n",
        "for i, item in enumerate(inspeksi, start=1):\n",
        "    print(f\"{i}. {item}\")"
      ],
      "metadata": {
        "id": "ruNgBKapEJM6",
        "colab": {
          "base_uri": "https://localhost:8080/"
        },
        "outputId": "208e61bd-0448-4371-a90a-4b2282f0986c"
      },
      "execution_count": 1,
      "outputs": [
        {
          "output_type": "stream",
          "name": "stdout",
          "text": [
            "Daftar Inspeksi Proyek:\n",
            "1. pemahaman terhadap rencana dan desain\n",
            "2. ketersediaan bahan dan peralatan\n",
            "3. pengawasan pekerjaan\n",
            "4. kualitas konstruksi\n",
            "5. keselamatan kerja\n",
            "6. koordinasi dengan pemilik proyek\n"
          ]
        }
      ]
    },
    {
      "cell_type": "code",
      "source": [
        "startime = {\n",
        "    \"hh\" : 9,\n",
        "    \"mm\" : 23,\n",
        "    \"ss\" : 57\n",
        "\n",
        "}\n",
        "print(startime)\n",
        "\n",
        "endtime = {\n",
        "\n",
        "    \"hh\" : 15,\n",
        "    \"mm\" : 25,\n",
        "    \"ss\" : 43\n",
        "\n",
        "}\n",
        "\n",
        "print(endtime)"
      ],
      "metadata": {
        "colab": {
          "base_uri": "https://localhost:8080/"
        },
        "id": "78Em4FyycNCA",
        "outputId": "469392b1-0062-4b65-c681-24e8166fb149"
      },
      "execution_count": null,
      "outputs": [
        {
          "output_type": "stream",
          "name": "stdout",
          "text": [
            "{'hh': 9, 'mm': 23, 'ss': 57}\n",
            "{'hh': 15, 'mm': 25, 'ss': 43}\n"
          ]
        }
      ]
    },
    {
      "cell_type": "code",
      "source": [
        "# Data awal (contoh baru)\n",
        "katalog_A = {\"Roti\", \"Susu\", \"Kopi\", \"Teh\"}\n",
        "katalog_B = {\"Teh\", \"Cokelat\", \"Keju\", \"Roti\"}\n",
        "produk_diskon = (\"Susu\", \"Keju\", \"Es Krim\")\n",
        "\n",
        "# 1. Gabungkan katalog_A dan katalog_B menjadi set unik\n",
        "katalog_lengkap = katalog_A.union(katalog_B)\n",
        "\n",
        "# 2. Cari produk yang ada di katalog_lengkap sekaligus ada di produk_diskon\n",
        "produk_promo_aktif = katalog_lengkap.intersection(produk_diskon)\n",
        "\n",
        "# Output hasil\n",
        "print(\"Katalog A:\", katalog_A)\n",
        "print(\"Katalog B:\", katalog_B)\n",
        "print(\"Katalog Lengkap:\", katalog_lengkap)\n",
        "print(\"Produk Diskon:\", produk_diskon)\n",
        "print(\"Produk Promo Aktif:\", produk_promo_aktif)\n"
      ],
      "metadata": {
        "id": "zkml74Gy8RxW",
        "colab": {
          "base_uri": "https://localhost:8080/"
        },
        "outputId": "dfe5f57a-3478-471c-d78b-9bc83962eb42"
      },
      "execution_count": 4,
      "outputs": [
        {
          "output_type": "stream",
          "name": "stdout",
          "text": [
            "Katalog A: {'Kopi', 'Teh', 'Susu', 'Roti'}\n",
            "Katalog B: {'Teh', 'Keju', 'Roti', 'Cokelat'}\n",
            "Katalog Lengkap: {'Cokelat', 'Kopi', 'Teh', 'Keju', 'Roti', 'Susu'}\n",
            "Produk Diskon: ('Susu', 'Keju', 'Es Krim')\n",
            "Produk Promo Aktif: {'Keju', 'Susu'}\n"
          ]
        }
      ]
    }
  ]
}