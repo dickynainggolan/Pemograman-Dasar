{
  "nbformat": 4,
  "nbformat_minor": 0,
  "metadata": {
    "colab": {
      "provenance": [],
      "authorship_tag": "ABX9TyPYkNq5JaZyrNFVQ0nu+wxE",
      "include_colab_link": true
    },
    "kernelspec": {
      "name": "python3",
      "display_name": "Python 3"
    },
    "language_info": {
      "name": "python"
    }
  },
  "cells": [
    {
      "cell_type": "markdown",
      "metadata": {
        "id": "view-in-github",
        "colab_type": "text"
      },
      "source": [
        "<a href=\"https://colab.research.google.com/github/dickynainggolan/Pemograman-Dasar/blob/main/Tugas_3.ipynb\" target=\"_parent\"><img src=\"https://colab.research.google.com/assets/colab-badge.svg\" alt=\"Open In Colab\"/></a>"
      ]
    },
    {
      "cell_type": "code",
      "execution_count": 4,
      "metadata": {
        "colab": {
          "base_uri": "https://localhost:8080/"
        },
        "id": "poqOFgUf7EGr",
        "outputId": "e7e0970f-d188-4f88-8109-e40bdf081c99"
      },
      "outputs": [
        {
          "output_type": "stream",
          "name": "stdout",
          "text": [
            "Subtotal        : Rp 225000\n",
            "Diskon          : Rp 33750.0\n",
            "Harga setelah diskon : Rp 191250.0\n",
            "PPN (11%)       : Rp 21037.5\n",
            "Total Akhir     : Rp 212287.5\n"
          ]
        }
      ],
      "source": [
        "items = [50000, 75000, 100000]\n",
        "member = True\n",
        "subtotal = sum(items)\n",
        "\n",
        "if member and subtotal > 100000:\n",
        "    discount_rate = 0.15\n",
        "else:\n",
        "    discount_rate = 0.0\n",
        "\n",
        "\n",
        "discount = subtotal * discount_rate\n",
        "\n",
        "\n",
        "harga_setelah_diskon = subtotal - discount\n",
        "\n",
        "\n",
        "ppn = 0.11 * harga_setelah_diskon\n",
        "\n",
        "\n",
        "total_akhir = harga_setelah_diskon + ppn\n",
        "\n",
        "\n",
        "print(\"Subtotal        : Rp\", subtotal)\n",
        "print(\"Diskon          : Rp\", discount)\n",
        "print(\"Harga setelah diskon : Rp\", harga_setelah_diskon)\n",
        "print(\"PPN (11%)       : Rp\", ppn)\n",
        "print(\"Total Akhir     : Rp\", total_akhir)"
      ]
    }
  ]
}