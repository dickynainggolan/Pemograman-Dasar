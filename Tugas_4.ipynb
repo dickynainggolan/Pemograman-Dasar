{
  "nbformat": 4,
  "nbformat_minor": 0,
  "metadata": {
    "colab": {
      "provenance": [],
      "authorship_tag": "ABX9TyMGCHFYckDM5Ud15/BP2xku",
      "include_colab_link": true
    },
    "kernelspec": {
      "name": "python3",
      "display_name": "Python 3"
    },
    "language_info": {
      "name": "python"
    }
  },
  "cells": [
    {
      "cell_type": "markdown",
      "metadata": {
        "id": "view-in-github",
        "colab_type": "text"
      },
      "source": [
        "<a href=\"https://colab.research.google.com/github/dickynainggolan/Pemograman-Dasar/blob/main/Tugas_4.ipynb\" target=\"_parent\"><img src=\"https://colab.research.google.com/assets/colab-badge.svg\" alt=\"Open In Colab\"/></a>"
      ]
    },
    {
      "cell_type": "code",
      "source": [
        "print(\"*\"*40)\n",
        "print(\"SELAMAT DATANG DI KAFE NAINGGOLAN\")\n",
        "print(\"*\"*40)\n",
        "\n",
        "print(\"Menu Makanan & Minuman:\")\n",
        "print(\"1. Paket Keluarga  - Rp 300.000\")\n",
        "print(\"2. Buffet Premium  - Rp 500.000\")\n",
        "print(\"3. Seafood Deluxe  - Rp 750.000\")\n",
        "print(\"4. Set Menu VIP    - Rp 1.000.000\")\n",
        "print(\"-\"*40)\n",
        "\n",
        "pilihan_str: str = input(\"Silakan masukkan nomor pilihan Anda (1-4): \")\n",
        "pilihan: int = int(pilihan_str)\n",
        "nama_pesanan: str = \"\"\n",
        "harga: int = 0\n",
        "\n",
        "if pilihan == 1:\n",
        "    nama_pesanan = \"Paket Keluarga\"\n",
        "    harga = 300000\n",
        "    print(f\"Anda memesan: {nama_pesanan} dengan harga Rp {harga}\")\n",
        "elif pilihan == 2:\n",
        "    nama_pesanan = \"Buffet Premium\"\n",
        "    harga = 500000\n",
        "    print(f\"Anda memesan: {nama_pesanan} dengan harga Rp {harga}\")\n",
        "elif pilihan == 3:\n",
        "    nama_pesanan = \"Seafood Deluxe\"\n",
        "    harga = 750000\n",
        "    print(f\"Anda memesan: {nama_pesanan} dengan harga Rp {harga}\")\n",
        "elif pilihan == 4:\n",
        "    nama_pesanan = \"Set Menu VIP\"\n",
        "    harga = 1000000\n",
        "    print(f\"Anda memesan: {nama_pesanan} dengan harga Rp {harga}\")\n",
        "else:\n",
        "    print(\"Maaf, pilihan menu tidak valid. Silakan jalankan ulang program.\")\n",
        "\n",
        "if harga > 0:\n",
        "    # Logika Diskon\n",
        "    if harga >= 100000:\n",
        "        diskon = 0.70\n",
        "    elif harga >= 50000:\n",
        "        diskon = 0.50\n",
        "    elif harga >= 25000:\n",
        "        diskon = 0.30\n",
        "    else:\n",
        "        diskon = 0.0\n",
        "\n",
        "    potongan = int(harga * diskon)\n",
        "    total_bayar = harga - potongan\n",
        "\n",
        "    print(f\"\\nTotal belanja sebelum diskon : Rp {harga}\")\n",
        "    print(f\"Diskon : {int(diskon*100)}% (Rp {potongan})\")\n",
        "    print(f\"Total yang harus dibayar : Rp {total_bayar}\")\n",
        "\n",
        "    uang_dibayar_str: str = input(f\"Total yang harus dibayar: Rp {total_bayar}. Masukkan jumlah uang Anda: Rp \")\n",
        "    uang_dibayar: int = int(uang_dibayar_str)\n",
        "\n",
        "    if uang_dibayar >= total_bayar:\n",
        "        kembalian = uang_dibayar - total_bayar\n",
        "        print(\"\\n--- Struk Pembayaran ---\")\n",
        "        print(f\"Pesanan Anda   : {nama_pesanan}\")\n",
        "        print(f\"Total Harga    : Rp {harga}\")\n",
        "        print(f\"Diskon         : Rp {potongan}\")\n",
        "        print(f\"Total Bayar    : Rp {total_bayar}\")\n",
        "        print(f\"Uang Dibayar   : Rp {uang_dibayar}\")\n",
        "        print(f\"Kembalian      : Rp {kembalian}\")\n",
        "        print(\"---------------------------\")\n",
        "        print(\"Terima kasih telah berbelanja di KAFE NAINGGOLAN :)\")\n",
        "    else:\n",
        "        kekurangan = total_bayar - uang_dibayar\n",
        "        print(f\"Maaf, uang Anda kurang sebesar Rp {kekurangan}\")\n"
      ],
      "metadata": {
        "colab": {
          "base_uri": "https://localhost:8080/"
        },
        "id": "wff6eaTZHltn",
        "outputId": "e4d3c5bc-2f3f-491b-bc41-51f9117cc845"
      },
      "execution_count": null,
      "outputs": [
        {
          "output_type": "stream",
          "name": "stdout",
          "text": [
            "****************************************\n",
            "SELAMAT DATANG DI KAFE NAINGGOLAN\n",
            "****************************************\n",
            "Menu Makanan & Minuman:\n",
            "1. Paket Keluarga  - Rp 300.000\n",
            "2. Buffet Premium  - Rp 500.000\n",
            "3. Seafood Deluxe  - Rp 750.000\n",
            "4. Set Menu VIP    - Rp 1.000.000\n",
            "----------------------------------------\n",
            "Silakan masukkan nomor pilihan Anda (1-4): 1\n",
            "Anda memesan: Paket Keluarga dengan harga Rp 300000\n",
            "\n",
            "Total belanja sebelum diskon : Rp 300000\n",
            "Diskon : 70% (Rp 210000)\n",
            "Total yang harus dibayar : Rp 90000\n",
            "Total yang harus dibayar: Rp 90000. Masukkan jumlah uang Anda: Rp 100000\n",
            "\n",
            "--- Struk Pembayaran ---\n",
            "Pesanan Anda   : Paket Keluarga\n",
            "Total Harga    : Rp 300000\n",
            "Diskon         : Rp 210000\n",
            "Total Bayar    : Rp 90000\n",
            "Uang Dibayar   : Rp 100000\n",
            "Kembalian      : Rp 10000\n",
            "---------------------------\n",
            "Terima kasih telah berbelanja di KAFE NAINGGOLAN :)\n"
          ]
        }
      ]
    }
  ]
}