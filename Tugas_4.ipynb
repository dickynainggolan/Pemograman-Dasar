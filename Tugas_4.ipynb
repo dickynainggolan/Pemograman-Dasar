{
  "nbformat": 4,
  "nbformat_minor": 0,
  "metadata": {
    "colab": {
      "provenance": [],
      "authorship_tag": "ABX9TyMX6Rhj1DaQQYiWTln7As4A",
      "include_colab_link": true
    },
    "kernelspec": {
      "name": "python3",
      "display_name": "Python 3"
    },
    "language_info": {
      "name": "python"
    }
  },
  "cells": [
    {
      "cell_type": "markdown",
      "metadata": {
        "id": "view-in-github",
        "colab_type": "text"
      },
      "source": [
        "<a href=\"https://colab.research.google.com/github/dickynainggolan/Pemograman-Dasar/blob/main/Tugas_4.ipynb\" target=\"_parent\"><img src=\"https://colab.research.google.com/assets/colab-badge.svg\" alt=\"Open In Colab\"/></a>"
      ]
    },
    {
      "cell_type": "code",
      "execution_count": null,
      "metadata": {
        "colab": {
          "base_uri": "https://localhost:8080/"
        },
        "id": "VRNOPNyWRCIk",
        "outputId": "c74119e7-ac68-4728-8503-03094be2bbea"
      },
      "outputs": [
        {
          "output_type": "stream",
          "name": "stdout",
          "text": [
            "SELAMAT DATANG DI KAFE Nainggolan\n",
            "******************************\n",
            "Menu Makanan & Minuman:\n",
            "1. Kopi Hitam   - Rp 12.000\n",
            "2. Teh Manis    - Rp 8.000\n",
            "3. Roti Bakar   - Rp 15.000\n",
            "4. Mie Instan   - Rp 10.000\n",
            "------------------------------\n",
            "Silakan masukkan nomor pilihan Anda (1-4): 1\n",
            "Anda memesan: Kopi Hitam dengan harga Rp 12000\n",
            "\n",
            "Total belanja sebelum diskon : Rp 12000\n",
            "Diskon : 0% (Rp 0)\n",
            "Total yang harus dibayar : Rp 12000\n",
            "Total yang harus dibayar: Rp 12000. Masukkan jumlah uang Anda: Rp 100000\n",
            "\n",
            "--- Struk Pembayaran ---\n",
            "Pesanan Anda   : Kopi Hitam\n",
            "Total Harga    : Rp 12000\n",
            "Diskon         : Rp 0\n",
            "Total Bayar    : Rp 12000\n",
            "Uang Dibayar   : Rp 100000\n",
            "Kembalian      : Rp 88000\n",
            "---------------------------\n",
            "Terima kasih telah berbelanja di Kafe Nainggolan :)\n"
          ]
        }
      ],
      "source": [
        "\n",
        "print(\"SELAMAT DATANG DI KAFE Nainggolan\")\n",
        "print(\"*\"*30)\n",
        "\n",
        "print(\"Menu Makanan & Minuman:\")\n",
        "print(\"1. Kopi Hitam   - Rp 12.000\")\n",
        "print(\"2. Teh Manis    - Rp 8.000\")\n",
        "print(\"3. Roti Bakar   - Rp 15.000\")\n",
        "print(\"4. Mie Instan   - Rp 10.000\")\n",
        "print(\"-\"*30)\n",
        "\n",
        "pilihan_str: str = input(\"Silakan masukkan nomor pilihan Anda (1-4): \")\n",
        "pilihan: int = int(pilihan_str)\n",
        "nama_pesanan: str = \"\"\n",
        "harga: int = 0\n",
        "\n",
        "if pilihan == 1:\n",
        "    nama_pesanan = \"Kopi Hitam\"\n",
        "    harga = 12000\n",
        "    print(f\"Anda memesan: {nama_pesanan} dengan harga Rp {harga}\")\n",
        "elif pilihan == 2:\n",
        "    nama_pesanan = \"Teh Manis\"\n",
        "    harga = 8000\n",
        "    print(f\"Anda memesan: {nama_pesanan} dengan harga Rp {harga}\")\n",
        "elif pilihan == 3:\n",
        "    nama_pesanan = \"Roti Bakar\"\n",
        "    harga = 15000\n",
        "    print(f\"Anda memesan: {nama_pesanan} dengan harga Rp {harga}\")\n",
        "elif pilihan == 4:\n",
        "    nama_pesanan = \"Mie Instan\"\n",
        "    harga = 10000\n",
        "    print(f\"Anda memesan: {nama_pesanan} dengan harga Rp {harga}\")\n",
        "else:\n",
        "    print(\"Maaf, pilihan menu tidak valid. Silakan jalankan ulang program.\")\n",
        "\n",
        "if harga > 0:\n",
        "    # Tambahan: Logika Diskon\n",
        "    if harga >= 100000:\n",
        "        diskon = 0.70\n",
        "    elif harga >= 50000:\n",
        "        diskon = 0.50\n",
        "    elif harga >= 25000:\n",
        "        diskon = 0.30\n",
        "    else:\n",
        "        diskon = 0.0\n",
        "\n",
        "    potongan = int(harga * diskon)\n",
        "    total_bayar = harga - potongan\n",
        "\n",
        "    print(f\"\\nTotal belanja sebelum diskon : Rp {harga}\")\n",
        "    print(f\"Diskon : {int(diskon*100)}% (Rp {potongan})\")\n",
        "    print(f\"Total yang harus dibayar : Rp {total_bayar}\")\n",
        "\n",
        "    uang_dibayar_str: str = input(f\"Total yang harus dibayar: Rp {total_bayar}. Masukkan jumlah uang Anda: Rp \")\n",
        "    uang_dibayar: int = int(uang_dibayar_str)\n",
        "\n",
        "    if uang_dibayar >= total_bayar:\n",
        "        kembalian = uang_dibayar - total_bayar\n",
        "        print(\"\\n--- Struk Pembayaran ---\")\n",
        "        print(f\"Pesanan Anda   : {nama_pesanan}\")\n",
        "        print(f\"Total Harga    : Rp {harga}\")\n",
        "        print(f\"Diskon         : Rp {potongan}\")\n",
        "        print(f\"Total Bayar    : Rp {total_bayar}\")\n",
        "        print(f\"Uang Dibayar   : Rp {uang_dibayar}\")\n",
        "        print(f\"Kembalian      : Rp {kembalian}\")\n",
        "        print(\"---------------------------\")\n",
        "        print(\"Terima kasih telah berbelanja di Kafe Nainggolan :)\")\n",
        "    else:\n",
        "        kekurangan = total_bayar - uang_dibayar\n",
        "        print(f\"Maaf, uang Anda kurang sebesar Rp {kekurangan}\")\n"
      ]
    }
  ]
}