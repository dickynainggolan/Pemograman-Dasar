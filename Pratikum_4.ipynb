{
  "nbformat": 4,
  "nbformat_minor": 0,
  "metadata": {
    "colab": {
      "provenance": [],
      "authorship_tag": "ABX9TyOiLvxu1lnfrcc9ECF8Y8Wo",
      "include_colab_link": true
    },
    "kernelspec": {
      "name": "python3",
      "display_name": "Python 3"
    },
    "language_info": {
      "name": "python"
    }
  },
  "cells": [
    {
      "cell_type": "markdown",
      "metadata": {
        "id": "view-in-github",
        "colab_type": "text"
      },
      "source": [
        "<a href=\"https://colab.research.google.com/github/dickynainggolan/Pemograman-Dasar/blob/main/Pratikum_4.ipynb\" target=\"_parent\"><img src=\"https://colab.research.google.com/assets/colab-badge.svg\" alt=\"Open In Colab\"/></a>"
      ]
    },
    {
      "cell_type": "code",
      "execution_count": 10,
      "metadata": {
        "colab": {
          "base_uri": "https://localhost:8080/"
        },
        "id": "Ro2XI0VbUy1Q",
        "outputId": "c44e6d33-16dd-4cff-a74a-af418a680134"
      },
      "outputs": [
        {
          "output_type": "stream",
          "name": "stdout",
          "text": [
            "pengunjung adalah orang dewasa.\n"
          ]
        }
      ],
      "source": [
        "\n",
        "umur : int = 25\n",
        "if umur > 17 :\n",
        "    print(\"pengunjung adalah orang dewasa.\")"
      ]
    },
    {
      "cell_type": "code",
      "source": [
        "username = input(\"Masukkan username : \")\n",
        "password = input(\"Masukkan password: \")\n",
        "\n",
        "if username == \"Dicky Nainggolan\" and password == \"aku belanda\" :\n",
        "    print(\"login berhasil\")\n",
        "else:\n",
        "        print(\"login gagal\")"
      ],
      "metadata": {
        "colab": {
          "base_uri": "https://localhost:8080/"
        },
        "id": "drT0jg3iWGY2",
        "outputId": "2f487fd6-bc62-480f-b8d6-6421de12aab5"
      },
      "execution_count": 23,
      "outputs": [
        {
          "output_type": "stream",
          "name": "stdout",
          "text": [
            "Masukkan username : Dicky Nainggolan\n",
            "Masukkan password: aku belanda\n",
            "login berhasil\n"
          ]
        }
      ]
    },
    {
      "cell_type": "code",
      "source": [
        "total_belanja = input(\"Total belanja :Rp\")\n",
        "bayar = int(total_belanja)\n",
        "if int(total_belanja) > 100000 :\n",
        " print(\"selamat karena Belanja > Rp 100.000 anda mendapatkan voucer makan dan diskon 5%\")\n",
        " diskon = int (total_belanja)*5/100\n",
        " bayar = int (total_belanja) - diskon\n",
        "\n",
        "\n",
        "print(\"Total yang hasrus di bayar : Rp %s\" % bayar )\n",
        "print(\"Terimah kasih sudah datang di toko kami\")\n",
        "print(\"kami tunggu kunjungan anda selanjutnya\")"
      ],
      "metadata": {
        "colab": {
          "base_uri": "https://localhost:8080/"
        },
        "id": "7BqLN57kcCUu",
        "outputId": "f34250ac-02d8-420d-cdce-666b3f685c7a"
      },
      "execution_count": 26,
      "outputs": [
        {
          "output_type": "stream",
          "name": "stdout",
          "text": [
            "Total belanja :Rp200000\n",
            "selamat karena Belanja > Rp 100.000 anda mendapatkan voucer makan dan diskon 5%\n",
            "Total yang hasrus di bayar : Rp 190000.0\n",
            "Terimah kasih sudah datang di toko kami\n",
            "kami tunggu kunjungan anda selanjutnya\n"
          ]
        }
      ]
    },
    {
      "cell_type": "code",
      "source": [
        "ada_notifikasi_baru : bool = True\n",
        "\n",
        "if ada_notifikasi_baru :\n",
        " print(\" Dicky ada pesan baru dari teman anda!\")\n"
      ],
      "metadata": {
        "colab": {
          "base_uri": "https://localhost:8080/"
        },
        "id": "aaAABw68fp42",
        "outputId": "cf043500-fa15-41eb-c5af-26f0cc0075c2"
      },
      "execution_count": 30,
      "outputs": [
        {
          "output_type": "stream",
          "name": "stdout",
          "text": [
            " Dicky ada pesan baru dari teman anda!\n"
          ]
        }
      ]
    },
    {
      "cell_type": "code",
      "source": [
        "umur = input(\"Berapa umur anda\")\n",
        "if int(umur) >= 18:\n",
        "  print(\"kamu boleh membuat SIM\")\n",
        "else :\n",
        "  print(\"kamu belum boleh membuat SIM\")"
      ],
      "metadata": {
        "colab": {
          "base_uri": "https://localhost:8080/"
        },
        "id": "Gb2Ob4mNg6Su",
        "outputId": "7e810d7e-95ab-4ff0-a0be-2d248a6cd6f9"
      },
      "execution_count": 32,
      "outputs": [
        {
          "output_type": "stream",
          "name": "stdout",
          "text": [
            "Berapa umur anda    19\n",
            "kamu boleh membuat SIM\n"
          ]
        }
      ]
    },
    {
      "cell_type": "code",
      "source": [
        "total_belanja = 550000\n",
        "if total_belanja >200000 :\n",
        "   diskon = total_belanja * 0.10\n",
        "   total_bayar = total_belanja - diskon\n",
        "   print(f\"anda mendapatkan diskon ! Total bayar : Rp {total_bayar}\")\n",
        "else :\n",
        "  print(f\"Total bayar Rp {total_belanja}\")\n",
        "\n"
      ],
      "metadata": {
        "colab": {
          "base_uri": "https://localhost:8080/"
        },
        "id": "wFeVjRuJh1Ku",
        "outputId": "62bc72af-7db6-4483-e146-d8bc981f5aad"
      },
      "execution_count": 34,
      "outputs": [
        {
          "output_type": "stream",
          "name": "stdout",
          "text": [
            "anda mendapatkan diskon ! Total bayar : Rp 495000.0\n"
          ]
        }
      ]
    },
    {
      "cell_type": "code",
      "source": [
        "angka = int(input(\"Masukan bilangan : \"))\n",
        "if angka % 2 == 0 :\n",
        " print(\"Bilangan genap\")\n",
        "\n",
        "else :\n",
        "  print(\"Bilangan ganjil\")"
      ],
      "metadata": {
        "colab": {
          "base_uri": "https://localhost:8080/"
        },
        "id": "x1iBKMt7kI7O",
        "outputId": "a6445492-819a-48e9-8b6b-ba504379d911"
      },
      "execution_count": 38,
      "outputs": [
        {
          "output_type": "stream",
          "name": "stdout",
          "text": [
            "Masukan bilangan : 35\n",
            "Bilangan ganjil\n"
          ]
        }
      ]
    },
    {
      "cell_type": "code",
      "source": [
        "nilai = 80\n",
        "if nilai >= 85 :\n",
        " print(\"luar biasa ! Nilai A\")\n",
        "elif nilai >= 70 :\n",
        "  print(\"Bagus ! nilai B\")\n",
        "elif nilai >= 60 :\n",
        "  print(\"Cukup ! nilai C\")\n",
        "else :\n",
        "  print(\"Nilai Kurang , perlu belajar lebih giat .\")"
      ],
      "metadata": {
        "colab": {
          "base_uri": "https://localhost:8080/"
        },
        "id": "mwTSpi5ilpr2",
        "outputId": "d953457b-3d90-4fb0-c3f0-717ba22aec36"
      },
      "execution_count": 39,
      "outputs": [
        {
          "output_type": "stream",
          "name": "stdout",
          "text": [
            "Bagus ! nilai B\n"
          ]
        }
      ]
    },
    {
      "cell_type": "code",
      "source": [
        "hari : str = \"sabtu\"\n",
        "if hari == \"Sabtu\" or hari == \"minggu\" :\n",
        "  diskon: float = 0.20\n",
        "  print(f\"Selamat ! anda mendapatkan diskon ahkir pekan sebesar {diskon * 100}%\")\n",
        "elif hari == \"jumat\" :\n",
        " diskon: float = 0.15\n",
        " print(f\"Diskon spesial Jumat! anda mendapatkan Potongan{diskon*100}%\")\n",
        "else:\n",
        "  diskon: float = 0.05\n",
        "  print(f\"Anda mendapat diskon hari biasa sebesar {diskon*100}%\")"
      ],
      "metadata": {
        "colab": {
          "base_uri": "https://localhost:8080/"
        },
        "id": "KmJ5afpsnI52",
        "outputId": "085ddbb1-2240-4155-c74d-9d97e4901f73"
      },
      "execution_count": 41,
      "outputs": [
        {
          "output_type": "stream",
          "name": "stdout",
          "text": [
            "Anda mendapat diskon hari biasa sebesar 5.0%\n"
          ]
        }
      ]
    },
    {
      "cell_type": "code",
      "source": [
        "rupiah = int(input(\"Masukan jumlah uang  (Rp) :\"))\n",
        "print(\"1.Dolar (USD)\")\n",
        "print(\"2. Euro (EUR)\")\n",
        "print(\"3.Yen (JPY)\")\n",
        "pilih = int(input(\"Pilih konversi(1/2/3) :\"))\n",
        "\n",
        "if pilih == 1 :\n",
        "  print(\"Dalam Dolar\", rupiah / 15000)\n",
        "elif pilih == 2:\n",
        "  print(\"Dalam Euro\", rupiah / 16000)\n",
        "elif pilih == 3:\n",
        "  print(\"Dalam Yen\", rupiah / 120)\n",
        "else:\n",
        "  print(\"Pilihan tidak valid\")"
      ],
      "metadata": {
        "colab": {
          "base_uri": "https://localhost:8080/"
        },
        "id": "NsYICl4npCrV",
        "outputId": "12a97053-6831-49de-9363-9de5af2d265d"
      },
      "execution_count": 49,
      "outputs": [
        {
          "output_type": "stream",
          "name": "stdout",
          "text": [
            "Masukan jumlah uang  (Rp) :900000\n",
            "1.Dolar (USD)\n",
            "2. Euro (EUR)\n",
            "3.Yen (JPY)\n",
            "Pilih konversi(1/2/3) :1\n",
            "Dalam Dolar 60.0\n"
          ]
        }
      ]
    }
  ]
}